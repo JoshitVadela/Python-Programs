{
  "nbformat": 4,
  "nbformat_minor": 0,
  "metadata": {
    "colab": {
      "provenance": [],
      "authorship_tag": "ABX9TyMyhx+s4Zi3SDhUMjmvQkPK",
      "include_colab_link": true
    },
    "kernelspec": {
      "name": "python3",
      "display_name": "Python 3"
    },
    "language_info": {
      "name": "python"
    }
  },
  "cells": [
    {
      "cell_type": "markdown",
      "metadata": {
        "id": "view-in-github",
        "colab_type": "text"
      },
      "source": [
        "<a href=\"https://colab.research.google.com/github/JoshitVadela/Python-Programs/blob/main/Word_Replacement_Program.ipynb\" target=\"_parent\"><img src=\"https://colab.research.google.com/assets/colab-badge.svg\" alt=\"Open In Colab\"/></a>"
      ]
    },
    {
      "cell_type": "code",
      "execution_count": null,
      "metadata": {
        "colab": {
          "base_uri": "https://localhost:8080/"
        },
        "id": "HtKnijNh589S",
        "outputId": "6c1286ab-ccac-498b-dd0c-d15316b45df2"
      },
      "outputs": [
        {
          "output_type": "stream",
          "name": "stdout",
          "text": [
            "Enter the word you want to replace: blue\n",
            "Enter the word you want to replace the above word with: black\n",
            "Apples are red, not black black black black\n"
          ]
        }
      ],
      "source": [
        "def replace_word():\n",
        "\n",
        "  str = \"Apples are red, not blue blue blue blue\"\n",
        "  word_to_replace = input(\"Enter the word you want to replace: \")\n",
        "  word_replacement = input(\"Enter the word you want to replace the above word with: \")\n",
        "  print(str.replace(word_to_replace, word_replacement))\n",
        "\n",
        "replace_word()\n",
        "\n"
      ]
    }
  ]
}