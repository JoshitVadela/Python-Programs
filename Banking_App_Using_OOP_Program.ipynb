{
  "nbformat": 4,
  "nbformat_minor": 0,
  "metadata": {
    "colab": {
      "provenance": [],
      "authorship_tag": "ABX9TyNx81OxzX++GSWUkagKdjCO",
      "include_colab_link": true
    },
    "kernelspec": {
      "name": "python3",
      "display_name": "Python 3"
    },
    "language_info": {
      "name": "python"
    }
  },
  "cells": [
    {
      "cell_type": "markdown",
      "metadata": {
        "id": "view-in-github",
        "colab_type": "text"
      },
      "source": [
        "<a href=\"https://colab.research.google.com/github/JoshitVadela/Python-Programs/blob/main/Banking_App_Using_OOP_Program.ipynb\" target=\"_parent\"><img src=\"https://colab.research.google.com/assets/colab-badge.svg\" alt=\"Open In Colab\"/></a>"
      ]
    },
    {
      "cell_type": "code",
      "execution_count": 8,
      "metadata": {
        "id": "jGQP536Zh7sE",
        "colab": {
          "base_uri": "https://localhost:8080/"
        },
        "outputId": "d6ec390c-3419-4834-9248-c9bfcdf4725b"
      },
      "outputs": [
        {
          "output_type": "stream",
          "name": "stdout",
          "text": [
            "Enter name: Nani\n",
            "Enter age: 39\n",
            "Enter gender: Male\n",
            "\n",
            "\n",
            "1. Deposit\n",
            "2. Withdraw\n",
            "3. View Balance\n",
            "4. Exit\n",
            "\n",
            "\n",
            "Choose an option: 5\n",
            "\n",
            "\n",
            "Invalid option. Please choose a valid option.\n",
            "\n",
            "\n",
            "1. Deposit\n",
            "2. Withdraw\n",
            "3. View Balance\n",
            "4. Exit\n",
            "\n",
            "\n",
            "Choose an option: 1\n",
            "\n",
            "\n",
            "Enter amount to deposit: 1000000\n",
            "Account balance has been updated: $ 1000000.0\n",
            "\n",
            "\n",
            "1. Deposit\n",
            "2. Withdraw\n",
            "3. View Balance\n",
            "4. Exit\n",
            "\n",
            "\n",
            "Choose an option: 4\n",
            "\n",
            "\n",
            "Exiting...\n"
          ]
        }
      ],
      "source": [
        "class User():\n",
        "    def __init__(self, name, age, gender):\n",
        "        self.name = name\n",
        "        self.age = age\n",
        "        self.gender = gender\n",
        "\n",
        "    def show_user_details(self):\n",
        "        print(\"Personal Details: \")\n",
        "        print(\"\\n\")\n",
        "        print(\"Name: \", self.name)\n",
        "        print(\"Age: \", self.age)\n",
        "        print(\"Gender: \", self.gender)\n",
        "\n",
        "class Bank(User):\n",
        "    def __init__(self, name, age, gender):\n",
        "        super().__init__(name, age, gender)\n",
        "        self.balance = 0\n",
        "\n",
        "    def deposit(self, amount):\n",
        "        self.amount = amount\n",
        "        self.balance += self.amount\n",
        "        print(\"Account balance has been updated: $\", self.balance)\n",
        "\n",
        "    def withdraw(self, amount):\n",
        "        self.amount = amount\n",
        "        if self.amount > self.balance:\n",
        "            print(\"Insufficient Funds: Balance Available: $\", self.balance)\n",
        "        else:\n",
        "            self.balance -= self.amount\n",
        "            print(\"Account Balance has been updated: $\", self.balance)\n",
        "\n",
        "    def view_balance(self):\n",
        "        self.show_user_details()\n",
        "        print(\"Account Balance: $\", self.balance)\n",
        "\n",
        "\n",
        "name = input(\"Enter name: \")\n",
        "age = input(\"Enter age: \")\n",
        "gender = input(\"Enter gender: \")\n",
        "\n",
        "bank_user = Bank(name, age, gender)\n",
        "\n",
        "while True:\n",
        "    print(\"\\n\")\n",
        "    print(\"1. Deposit\")\n",
        "    print(\"2. Withdraw\")\n",
        "    print(\"3. View Balance\")\n",
        "    print(\"4. Exit\")\n",
        "    print(\"\\n\")\n",
        "\n",
        "    while True:\n",
        "        try:\n",
        "            option = int(input(\"Choose an option: \"))\n",
        "            print(\"\\n\")\n",
        "            break  # Breaks the inner loop if the input is a number\n",
        "        except ValueError:\n",
        "            print(\"Invalid input. Please enter a number.\")\n",
        "\n",
        "    if option == 1:\n",
        "        amount = float(input(\"Enter amount to deposit: \"))\n",
        "        bank_user.deposit(amount)\n",
        "    elif option == 2:\n",
        "        amount = float(input(\"Enter amount to withdraw: \"))\n",
        "        bank_user.withdraw(amount)\n",
        "    elif option == 3:\n",
        "        bank_user.view_balance()\n",
        "    elif option == 4:\n",
        "        print(\"Exiting...\")\n",
        "        break\n",
        "    else:\n",
        "        if option not in [1, 2, 3, 4]:\n",
        "            print(\"Invalid option. Please choose a valid option.\")\n"
      ]
    }
  ]
}