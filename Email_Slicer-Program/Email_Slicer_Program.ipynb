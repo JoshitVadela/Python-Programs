{
  "nbformat": 4,
  "nbformat_minor": 0,
  "metadata": {
    "colab": {
      "provenance": [],
      "authorship_tag": "ABX9TyP4Z8KWlJNIBKqFSahxaWw4",
      "include_colab_link": true
    },
    "kernelspec": {
      "name": "python3",
      "display_name": "Python 3"
    },
    "language_info": {
      "name": "python"
    }
  },
  "cells": [
    {
      "cell_type": "markdown",
      "metadata": {
        "id": "view-in-github",
        "colab_type": "text"
      },
      "source": [
        "<a href=\"https://colab.research.google.com/github/JoshitVadela/Python-Programs/blob/main/Email_Slicer_Program.ipynb\" target=\"_parent\"><img src=\"https://colab.research.google.com/assets/colab-badge.svg\" alt=\"Open In Colab\"/></a>"
      ]
    },
    {
      "cell_type": "code",
      "execution_count": null,
      "metadata": {
        "colab": {
          "base_uri": "https://localhost:8080/"
        },
        "id": "hclbQAmtWbtl",
        "outputId": "6fda3f7f-e793-45e8-9938-6faee1d1bfcd"
      },
      "outputs": [
        {
          "output_type": "stream",
          "name": "stdout",
          "text": [
            "\n",
            "Welcome to the Email Slicer Program\n",
            "\n",
            "Enter your email address: example@gmail.com\n",
            "\n",
            "\n",
            "Username :  example\n",
            "Domain :  gmail\n",
            "Extension :  com\n",
            "\n",
            "Welcome to the Email Slicer Program\n",
            "\n",
            "Enter your email address: blank@gmail.com\n",
            "\n",
            "\n",
            "Username :  blank\n",
            "Domain :  gmail\n",
            "Extension :  com\n",
            "\n",
            "Welcome to the Email Slicer Program\n",
            "\n"
          ]
        }
      ],
      "source": [
        "def main():\n",
        "  print(\"\\nWelcome to the Email Slicer Program\\n\")\n",
        "\n",
        "  email_input = input(\"Enter your email address: \")\n",
        "  print(\"\\n\")\n",
        "\n",
        "  (username, domain) = email_input.split(\"@\")\n",
        "  (domain, extension) = domain.split(\".\")\n",
        "\n",
        "  print(\"Username : \", username)\n",
        "  print(\"Domain : \", domain)\n",
        "  print(\"Extension : \", extension)\n",
        "\n",
        "while True:\n",
        "  main()"
      ]
    }
  ]
}
