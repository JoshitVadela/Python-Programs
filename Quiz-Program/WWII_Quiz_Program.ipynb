{
  "cells": [
    {
      "cell_type": "markdown",
      "metadata": {
        "id": "view-in-github",
        "colab_type": "text"
      },
      "source": [
        "<a href=\"https://colab.research.google.com/github/JoshitVadela/Python-Programs/blob/main/WWII_Quiz_Program.ipynb\" target=\"_parent\"><img src=\"https://colab.research.google.com/assets/colab-badge.svg\" alt=\"Open In Colab\"/></a>"
      ]
    },
    {
      "cell_type": "code",
      "execution_count": 1,
      "metadata": {
        "colab": {
          "base_uri": "https://localhost:8080/"
        },
        "id": "UIdVLbfL6J0t",
        "outputId": "61af9497-a95c-4ef4-d6cd-1fa796d86dd0"
      },
      "outputs": [
        {
          "output_type": "stream",
          "name": "stdout",
          "text": [
            "When Did WWII Start (Month, Date and Year)?\n",
            "\n",
            "Your Answer To The Question: September 1st 1939\n",
            "Correct Answer!!!\n",
            "\n",
            "Your Score: 1\n",
            "\n",
            "Who Was The Leader Of Japan During WWII?\n",
            "\n",
            "Your Answer To The Question: Hirohito\n",
            "Correct Answer!!!\n",
            "\n",
            "Your Score: 2\n",
            "\n",
            "Who Was The Leader Of Italy During WWII?\n",
            "\n",
            "Your Answer To The Question: Benito Mussolini\n",
            "Correct Answer!!!\n",
            "\n",
            "Your Score: 3\n",
            "\n",
            "What Started WWII?\n",
            "\n",
            "Your Answer To The Question: Adolf Hitler's invasion of Poland\n",
            "Correct Answer!!!\n",
            "\n",
            "Your Score: 4\n",
            "\n",
            "How Mny People Died In WWII?\n",
            "\n",
            "Your Answer To The Question: 75 Million\n",
            "Correct Answer!!!\n",
            "\n",
            "Your Score: 5\n",
            "\n",
            "When Did WWII End (Month, Date and Year)?\n",
            "\n",
            "Your Answer To The Question: September 4, 1945\n",
            "\n",
            "Wrong Answer!!\n",
            "\n",
            "The Correct Answer Is: September 2, 1945\n",
            "\n",
            "Your Score: 5\n",
            "\n"
          ]
        }
      ],
      "source": [
        "quiz = {\n",
        "\n",
        "    \"Question1\" : {\n",
        "        \"Question\" : \"When Did WWII Start (Month, Date and Year)?\\n\",\n",
        "        \"Answer\" : \"September 1st 1939\"\n",
        "    },\n",
        "\n",
        "    \"Question2\" : {\n",
        "        \"Question\" : \"Who Was The Leader Of Japan During WWII?\\n\",\n",
        "        \"Answer\" : \"Hirohito\"\n",
        "    },\n",
        "\n",
        "    \"Question3\" : {\n",
        "        \"Question\" : \"Who Was The Leader Of Italy During WWII?\\n\",\n",
        "        \"Answer\" : \"Benito Mussolini\"\n",
        "    },\n",
        "\n",
        "    \"Question4\" : {\n",
        "        \"Question\" : \"What Started WWII?\\n\",\n",
        "        \"Answer\" : \"Adolf Hitler's invasion of Poland\"\n",
        "    },\n",
        "\n",
        "    \"Question5\" : {\n",
        "        \"Question\" : \"How Mny People Died In WWII?\\n\",\n",
        "        \"Answer\" : \"75 Million\"\n",
        "    },\n",
        "\n",
        "    \"Question6\" : {\n",
        "        \"Question\" : \"When Did WWII End (Month, Date and Year)?\\n\",\n",
        "        \"Answer\" : \"September 2, 1945\"\n",
        "    },\n",
        "}\n",
        "\n",
        "score = 0\n",
        "\n",
        "for key, value in quiz.items():\n",
        "  print(value['Question'])\n",
        "  answer = input(\"Your Answer To The Question: \")\n",
        "\n",
        "  if answer.lower() == value['Answer'].lower():\n",
        "    print(\"Correct Answer!!!\\n\")\n",
        "    score += 1\n",
        "    print(f\"Your Score: {score}\\n\")\n",
        "  else:\n",
        "    print(\"\\nWrong Answer!!\\n\")\n",
        "    print(f\"The Correct Answer Is: {value['Answer']}\\n\")\n",
        "    print(f\"Your Score: {score}\\n\")"
      ]
    }
  ],
  "metadata": {
    "colab": {
      "provenance": [],
      "authorship_tag": "ABX9TyO2UnjEiWG7E32/Eyp8XZp/",
      "include_colab_link": true
    },
    "kernelspec": {
      "display_name": "Python 3",
      "name": "python3"
    },
    "language_info": {
      "name": "python"
    }
  },
  "nbformat": 4,
  "nbformat_minor": 0
}
